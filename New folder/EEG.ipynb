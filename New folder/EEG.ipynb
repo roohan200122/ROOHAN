{
  "cells": [
    {
      "cell_type": "code",
      "execution_count": null,
      "metadata": {
        "colab": {
          "base_uri": "https://localhost:8080/"
        },
        "id": "eJMZbKwcT9gA",
        "outputId": "a4cf4250-64a8-48d6-b908-fd27c9041ede"
      },
      "outputs": [
        {
          "name": "stdout",
          "output_type": "stream",
          "text": [
            "Emotion counts:\n",
            " Emotion\n",
            "happy      1\n",
            "neutral    1\n",
            "sad        1\n",
            "angry      1\n",
            "Name: count, dtype: int64\n",
            "\n",
            "Columns used: ['Timestamp', 'MarkerType', 'MarkerValueInt', 'EEG.Counter', 'EEG.Interpolated', 'EEG.AF3', 'EEG.F3', 'EEG.T7', 'EEG.O1', 'EEG.O2', 'EEG.T8', 'EEG.F4', 'EEG.AF4', 'EEG.HighBitFlex', 'EEG.SaturationFlag', 'EEG.RawCq', 'EEG.Battery', 'EEG.BatteryPercent', 'Emotion']\n"
          ]
        }
      ],
      "source": [
        "import pandas as pd\n",
        "\n",
        "# Load the CSV (skipping first row header)\n",
        "df = pd.read_csv(\"Recording Emo 1_EPOCFLEX_297824_2025.05.06T11.39.56+05.00.md.bp.csv\", header=1)\n",
        "\n",
        "# Keep necessary columns\n",
        "eeg_columns = [col for col in df.columns if col.startswith(\"EEG.\") and not col.startswith(\"EEG.Marker\")]\n",
        "needed_columns = ['Timestamp', 'MarkerType', 'MarkerValueInt'] + eeg_columns\n",
        "df = df[needed_columns].copy()\n",
        "\n",
        "# Filter only rows with MarkerType == 1\n",
        "df = df[df['MarkerType'] == 1].reset_index(drop=True)\n",
        "\n",
        "# Assign emotions based on MarkerValueInt\n",
        "emotion_map = {1: 'happy', 2: 'sad', 3: 'angry', 4: 'neutral'}\n",
        "df['Emotion'] = df['MarkerValueInt'].map(emotion_map)\n",
        "\n",
        "# Drop rows where Emotion is NaN (i.e., MarkerValueInt not 1–4)\n",
        "df = df.dropna(subset=['Emotion'])\n",
        "\n",
        "# Save the final cleaned and labeled dataset\n",
        "df.to_csv(\"cleaned_emotion_dataset_from_EEG.csv\", index=False)\n",
        "\n",
        "# Print summary\n",
        "print(\"Emotion counts:\\n\", df['Emotion'].value_counts())\n",
        "print(\"\\nColumns used:\", df.columns.tolist())\n"
      ]
    },
    {
      "cell_type": "code",
      "execution_count": null,
      "metadata": {
        "colab": {
          "base_uri": "https://localhost:8080/"
        },
        "id": "M0pXiCSfXHk-",
        "outputId": "8c87dd7d-a097-40d3-fcca-cc62b0c2ee57"
      },
      "outputs": [
        {
          "name": "stdout",
          "output_type": "stream",
          "text": [
            "✅ Saved happy1.csv with 7201 rows.\n",
            "✅ Saved sad1.csv with 5384 rows.\n",
            "✅ Saved angry1.csv with 7406 rows.\n",
            "✅ Saved neutral1.csv with 14791 rows.\n"
          ]
        }
      ],
      "source": [
        "import pandas as pd\n",
        "\n",
        "# Load data (make sure header=1 if your column names are on the second line)\n",
        "df = pd.read_csv(\"/content/Recording Emo 1_EPOCFLEX_297824_2025.05.06T11.39.56+05.00.md.bp.csv\", header=1)\n",
        "\n",
        "# Extract EEG-related columns\n",
        "eeg_columns = [col for col in df.columns if col.startswith(\"EEG.\") and \"Interpolated\" not in col and \"RawCq\" not in col]\n",
        "\n",
        "# Keep only relevant columns\n",
        "df = df[['Timestamp', 'MarkerType', 'MarkerValueInt'] + eeg_columns]\n",
        "\n",
        "# Convert to numeric (errors='coerce' will turn non-numeric to NaN)\n",
        "df['MarkerType'] = pd.to_numeric(df['MarkerType'], errors='coerce')\n",
        "df['MarkerValueInt'] = pd.to_numeric(df['MarkerValueInt'], errors='coerce')\n",
        "\n",
        "# Fill NaNs with 0 for safety\n",
        "df[['MarkerType', 'MarkerValueInt']] = df[['MarkerType', 'MarkerValueInt']].fillna(0)\n",
        "\n",
        "# Map emotion IDs to labels\n",
        "emotion_map = {1: 'happy', 2: 'sad', 3: 'angry', 4: 'neutral'}\n",
        "emotion_segments = {emotion: [] for emotion in emotion_map.values()}\n",
        "\n",
        "# Iterate through rows to find emotion segments\n",
        "i = 0\n",
        "while i < len(df):\n",
        "    row = df.iloc[i]\n",
        "    if row['MarkerType'] == 1 and row['MarkerValueInt'] in emotion_map:\n",
        "        start_idx = i\n",
        "        emotion = emotion_map[row['MarkerValueInt']]\n",
        "\n",
        "        # Search for corresponding end marker\n",
        "        end_idx = None\n",
        "        for j in range(i + 1, len(df)):\n",
        "            if df.iloc[j]['MarkerType'] == 1 and df.iloc[j]['MarkerValueInt'] == 5:\n",
        "                end_idx = j\n",
        "                break\n",
        "\n",
        "        if end_idx is not None:\n",
        "            segment = df.iloc[start_idx:end_idx + 1].copy()  # include both start and end\n",
        "            segment['Emotion'] = emotion\n",
        "            if not segment.empty:\n",
        "                emotion_segments[emotion].append(segment)\n",
        "            i = end_idx + 1\n",
        "        else:\n",
        "            break\n",
        "    else:\n",
        "        i += 1\n",
        "\n",
        "# Save emotion-specific segments\n",
        "for emotion, segments in emotion_segments.items():\n",
        "    if segments:\n",
        "        result = pd.concat(segments, ignore_index=True)\n",
        "        result.to_csv(f\"{emotion}1.csv\", index=False)\n",
        "        print(f\"✅ Saved {emotion}1.csv with {len(result)} rows.\")\n",
        "    else:\n",
        "        print(f\" No data found for {emotion}.\")\n"
      ]
    },
    {
      "cell_type": "code",
      "execution_count": null,
      "metadata": {
        "colab": {
          "base_uri": "https://localhost:8080/"
        },
        "id": "Yy9zam0FaCxt",
        "outputId": "b192ee69-9c31-4600-9bb5-7a7b434a3abf"
      },
      "outputs": [
        {
          "name": "stdout",
          "output_type": "stream",
          "text": [
            "✅ Saved happy2.csv with 1657 rows.\n",
            "✅ Saved sad2.csv with 6247 rows.\n",
            "✅ Saved angry2.csv with 3298 rows.\n",
            "✅ Saved neutral2.csv with 6519 rows.\n"
          ]
        }
      ],
      "source": [
        "import pandas as pd\n",
        "\n",
        "# Load data (make sure header=1 if your column names are on the second line)\n",
        "df = pd.read_csv(\"/content/Recording Emo 2_EPOCFLEX_297824_2025.05.06T12.03.31+05.00.md.bp.csv\", header=1)\n",
        "\n",
        "# Extract EEG-related columns\n",
        "eeg_columns = [col for col in df.columns if col.startswith(\"EEG.\") and \"Interpolated\" not in col and \"RawCq\" not in col]\n",
        "\n",
        "# Keep only relevant columns\n",
        "df = df[['Timestamp', 'MarkerType', 'MarkerValueInt'] + eeg_columns]\n",
        "\n",
        "# Convert to numeric (errors='coerce' will turn non-numeric to NaN)\n",
        "df['MarkerType'] = pd.to_numeric(df['MarkerType'], errors='coerce')\n",
        "df['MarkerValueInt'] = pd.to_numeric(df['MarkerValueInt'], errors='coerce')\n",
        "\n",
        "# Fill NaNs with 0 for safety\n",
        "df[['MarkerType', 'MarkerValueInt']] = df[['MarkerType', 'MarkerValueInt']].fillna(0)\n",
        "\n",
        "# Map emotion IDs to labels\n",
        "emotion_map = {1: 'happy', 2: 'sad', 3: 'angry', 4: 'neutral'}\n",
        "emotion_segments = {emotion: [] for emotion in emotion_map.values()}\n",
        "\n",
        "# Iterate through rows to find emotion segments\n",
        "i = 0\n",
        "while i < len(df):\n",
        "    row = df.iloc[i]\n",
        "    if row['MarkerType'] == 1 and row['MarkerValueInt'] in emotion_map:\n",
        "        start_idx = i\n",
        "        emotion = emotion_map[row['MarkerValueInt']]\n",
        "\n",
        "        # Search for corresponding end marker\n",
        "        end_idx = None\n",
        "        for j in range(i + 1, len(df)):\n",
        "            if df.iloc[j]['MarkerType'] == 1 and df.iloc[j]['MarkerValueInt'] == 5:\n",
        "                end_idx = j\n",
        "                break\n",
        "\n",
        "        if end_idx is not None:\n",
        "            segment = df.iloc[start_idx:end_idx + 1].copy()  # include both start and end\n",
        "            segment['Emotion'] = emotion\n",
        "            if not segment.empty:\n",
        "                emotion_segments[emotion].append(segment)\n",
        "            i = end_idx + 1\n",
        "        else:\n",
        "            break\n",
        "    else:\n",
        "        i += 1\n",
        "\n",
        "# Save emotion-specific segments\n",
        "for emotion, segments in emotion_segments.items():\n",
        "    if segments:\n",
        "        result = pd.concat(segments, ignore_index=True)\n",
        "        result.to_csv(f\"{emotion}2.csv\", index=False)\n",
        "        print(f\"✅ Saved {emotion}2.csv with {len(result)} rows.\")\n",
        "    else:\n",
        "        print(f\" No data found for {emotion}.\")\n"
      ]
    },
    {
      "cell_type": "code",
      "execution_count": null,
      "metadata": {
        "colab": {
          "base_uri": "https://localhost:8080/"
        },
        "id": "pH3NQtZ2aMKo",
        "outputId": "6aff4aa2-60c5-4ca1-a3a0-93ed86157feb"
      },
      "outputs": [
        {
          "name": "stdout",
          "output_type": "stream",
          "text": [
            "✅ Saved happy3.csv with 10093 rows.\n",
            "✅ Saved sad3.csv with 6197 rows.\n",
            "✅ Saved angry3.csv with 10307 rows.\n",
            "✅ Saved neutral3.csv with 9668 rows.\n"
          ]
        }
      ],
      "source": [
        "import pandas as pd\n",
        "\n",
        "# Load data (make sure header=1 if your column names are on the second line)\n",
        "df = pd.read_csv(\"/content/Recording emo 3_EPOCFLEX_297824_2025.05.06T12.10.19+05.00.md.bp.csv\", header=1)\n",
        "\n",
        "# Extract EEG-related columns\n",
        "eeg_columns = [col for col in df.columns if col.startswith(\"EEG.\") and \"Interpolated\" not in col and \"RawCq\" not in col]\n",
        "\n",
        "# Keep only relevant columns\n",
        "df = df[['Timestamp', 'MarkerType', 'MarkerValueInt'] + eeg_columns]\n",
        "\n",
        "# Convert to numeric (errors='coerce' will turn non-numeric to NaN)\n",
        "df['MarkerType'] = pd.to_numeric(df['MarkerType'], errors='coerce')\n",
        "df['MarkerValueInt'] = pd.to_numeric(df['MarkerValueInt'], errors='coerce')\n",
        "\n",
        "# Fill NaNs with 0 for safety\n",
        "df[['MarkerType', 'MarkerValueInt']] = df[['MarkerType', 'MarkerValueInt']].fillna(0)\n",
        "\n",
        "# Map emotion IDs to labels\n",
        "emotion_map = {1: 'happy', 2: 'sad', 3: 'angry', 4: 'neutral'}\n",
        "emotion_segments = {emotion: [] for emotion in emotion_map.values()}\n",
        "\n",
        "# Iterate through rows to find emotion segments\n",
        "i = 0\n",
        "while i < len(df):\n",
        "    row = df.iloc[i]\n",
        "    if row['MarkerType'] == 1 and row['MarkerValueInt'] in emotion_map:\n",
        "        start_idx = i\n",
        "        emotion = emotion_map[row['MarkerValueInt']]\n",
        "\n",
        "        # Search for corresponding end marker\n",
        "        end_idx = None\n",
        "        for j in range(i + 1, len(df)):\n",
        "            if df.iloc[j]['MarkerType'] == 1 and df.iloc[j]['MarkerValueInt'] == 5:\n",
        "                end_idx = j\n",
        "                break\n",
        "\n",
        "        if end_idx is not None:\n",
        "            segment = df.iloc[start_idx:end_idx + 1].copy()  # include both start and end\n",
        "            segment['Emotion'] = emotion\n",
        "            if not segment.empty:\n",
        "                emotion_segments[emotion].append(segment)\n",
        "            i = end_idx + 1\n",
        "        else:\n",
        "            break\n",
        "    else:\n",
        "        i += 1\n",
        "\n",
        "# Save emotion-specific segments\n",
        "for emotion, segments in emotion_segments.items():\n",
        "    if segments:\n",
        "        result = pd.concat(segments, ignore_index=True)\n",
        "        result.to_csv(f\"{emotion}3.csv\", index=False)\n",
        "        print(f\"✅ Saved {emotion}3.csv with {len(result)} rows.\")\n",
        "    else:\n",
        "        print(f\" No data found for {emotion}.\")\n"
      ]
    },
    {
      "cell_type": "code",
      "execution_count": null,
      "metadata": {
        "colab": {
          "base_uri": "https://localhost:8080/"
        },
        "id": "b2EHS1Vld-O1",
        "outputId": "77440683-eb63-4288-a5a5-299e0cca367b"
      },
      "outputs": [
        {
          "name": "stdout",
          "output_type": "stream",
          "text": [
            "Requirement already satisfied: pandas in /usr/local/lib/python3.11/dist-packages (2.2.2)\n",
            "Requirement already satisfied: numpy in /usr/local/lib/python3.11/dist-packages (2.0.2)\n",
            "Requirement already satisfied: scikit-learn in /usr/local/lib/python3.11/dist-packages (1.6.1)\n",
            "Requirement already satisfied: tensorflow in /usr/local/lib/python3.11/dist-packages (2.18.0)\n",
            "Requirement already satisfied: python-dateutil>=2.8.2 in /usr/local/lib/python3.11/dist-packages (from pandas) (2.9.0.post0)\n",
            "Requirement already satisfied: pytz>=2020.1 in /usr/local/lib/python3.11/dist-packages (from pandas) (2025.2)\n",
            "Requirement already satisfied: tzdata>=2022.7 in /usr/local/lib/python3.11/dist-packages (from pandas) (2025.2)\n",
            "Requirement already satisfied: scipy>=1.6.0 in /usr/local/lib/python3.11/dist-packages (from scikit-learn) (1.15.3)\n",
            "Requirement already satisfied: joblib>=1.2.0 in /usr/local/lib/python3.11/dist-packages (from scikit-learn) (1.5.0)\n",
            "Requirement already satisfied: threadpoolctl>=3.1.0 in /usr/local/lib/python3.11/dist-packages (from scikit-learn) (3.6.0)\n",
            "Requirement already satisfied: absl-py>=1.0.0 in /usr/local/lib/python3.11/dist-packages (from tensorflow) (1.4.0)\n",
            "Requirement already satisfied: astunparse>=1.6.0 in /usr/local/lib/python3.11/dist-packages (from tensorflow) (1.6.3)\n",
            "Requirement already satisfied: flatbuffers>=24.3.25 in /usr/local/lib/python3.11/dist-packages (from tensorflow) (25.2.10)\n",
            "Requirement already satisfied: gast!=0.5.0,!=0.5.1,!=0.5.2,>=0.2.1 in /usr/local/lib/python3.11/dist-packages (from tensorflow) (0.6.0)\n",
            "Requirement already satisfied: google-pasta>=0.1.1 in /usr/local/lib/python3.11/dist-packages (from tensorflow) (0.2.0)\n",
            "Requirement already satisfied: libclang>=13.0.0 in /usr/local/lib/python3.11/dist-packages (from tensorflow) (18.1.1)\n",
            "Requirement already satisfied: opt-einsum>=2.3.2 in /usr/local/lib/python3.11/dist-packages (from tensorflow) (3.4.0)\n",
            "Requirement already satisfied: packaging in /usr/local/lib/python3.11/dist-packages (from tensorflow) (24.2)\n",
            "Requirement already satisfied: protobuf!=4.21.0,!=4.21.1,!=4.21.2,!=4.21.3,!=4.21.4,!=4.21.5,<6.0.0dev,>=3.20.3 in /usr/local/lib/python3.11/dist-packages (from tensorflow) (5.29.4)\n",
            "Requirement already satisfied: requests<3,>=2.21.0 in /usr/local/lib/python3.11/dist-packages (from tensorflow) (2.32.3)\n",
            "Requirement already satisfied: setuptools in /usr/local/lib/python3.11/dist-packages (from tensorflow) (75.2.0)\n",
            "Requirement already satisfied: six>=1.12.0 in /usr/local/lib/python3.11/dist-packages (from tensorflow) (1.17.0)\n",
            "Requirement already satisfied: termcolor>=1.1.0 in /usr/local/lib/python3.11/dist-packages (from tensorflow) (3.1.0)\n",
            "Requirement already satisfied: typing-extensions>=3.6.6 in /usr/local/lib/python3.11/dist-packages (from tensorflow) (4.13.2)\n",
            "Requirement already satisfied: wrapt>=1.11.0 in /usr/local/lib/python3.11/dist-packages (from tensorflow) (1.17.2)\n",
            "Requirement already satisfied: grpcio<2.0,>=1.24.3 in /usr/local/lib/python3.11/dist-packages (from tensorflow) (1.71.0)\n",
            "Requirement already satisfied: tensorboard<2.19,>=2.18 in /usr/local/lib/python3.11/dist-packages (from tensorflow) (2.18.0)\n",
            "Requirement already satisfied: keras>=3.5.0 in /usr/local/lib/python3.11/dist-packages (from tensorflow) (3.8.0)\n",
            "Requirement already satisfied: h5py>=3.11.0 in /usr/local/lib/python3.11/dist-packages (from tensorflow) (3.13.0)\n",
            "Requirement already satisfied: ml-dtypes<0.5.0,>=0.4.0 in /usr/local/lib/python3.11/dist-packages (from tensorflow) (0.4.1)\n",
            "Requirement already satisfied: tensorflow-io-gcs-filesystem>=0.23.1 in /usr/local/lib/python3.11/dist-packages (from tensorflow) (0.37.1)\n",
            "Requirement already satisfied: wheel<1.0,>=0.23.0 in /usr/local/lib/python3.11/dist-packages (from astunparse>=1.6.0->tensorflow) (0.45.1)\n",
            "Requirement already satisfied: rich in /usr/local/lib/python3.11/dist-packages (from keras>=3.5.0->tensorflow) (13.9.4)\n",
            "Requirement already satisfied: namex in /usr/local/lib/python3.11/dist-packages (from keras>=3.5.0->tensorflow) (0.0.9)\n",
            "Requirement already satisfied: optree in /usr/local/lib/python3.11/dist-packages (from keras>=3.5.0->tensorflow) (0.15.0)\n",
            "Requirement already satisfied: charset-normalizer<4,>=2 in /usr/local/lib/python3.11/dist-packages (from requests<3,>=2.21.0->tensorflow) (3.4.2)\n",
            "Requirement already satisfied: idna<4,>=2.5 in /usr/local/lib/python3.11/dist-packages (from requests<3,>=2.21.0->tensorflow) (3.10)\n",
            "Requirement already satisfied: urllib3<3,>=1.21.1 in /usr/local/lib/python3.11/dist-packages (from requests<3,>=2.21.0->tensorflow) (2.4.0)\n",
            "Requirement already satisfied: certifi>=2017.4.17 in /usr/local/lib/python3.11/dist-packages (from requests<3,>=2.21.0->tensorflow) (2025.4.26)\n",
            "Requirement already satisfied: markdown>=2.6.8 in /usr/local/lib/python3.11/dist-packages (from tensorboard<2.19,>=2.18->tensorflow) (3.8)\n",
            "Requirement already satisfied: tensorboard-data-server<0.8.0,>=0.7.0 in /usr/local/lib/python3.11/dist-packages (from tensorboard<2.19,>=2.18->tensorflow) (0.7.2)\n",
            "Requirement already satisfied: werkzeug>=1.0.1 in /usr/local/lib/python3.11/dist-packages (from tensorboard<2.19,>=2.18->tensorflow) (3.1.3)\n",
            "Requirement already satisfied: MarkupSafe>=2.1.1 in /usr/local/lib/python3.11/dist-packages (from werkzeug>=1.0.1->tensorboard<2.19,>=2.18->tensorflow) (3.0.2)\n",
            "Requirement already satisfied: markdown-it-py>=2.2.0 in /usr/local/lib/python3.11/dist-packages (from rich->keras>=3.5.0->tensorflow) (3.0.0)\n",
            "Requirement already satisfied: pygments<3.0.0,>=2.13.0 in /usr/local/lib/python3.11/dist-packages (from rich->keras>=3.5.0->tensorflow) (2.19.1)\n",
            "Requirement already satisfied: mdurl~=0.1 in /usr/local/lib/python3.11/dist-packages (from markdown-it-py>=2.2.0->rich->keras>=3.5.0->tensorflow) (0.1.2)\n"
          ]
        }
      ],
      "source": [
        "pip install pandas numpy scikit-learn tensorflow\n"
      ]
    },
    {
      "cell_type": "code",
      "execution_count": null,
      "metadata": {
        "id": "Doio63Dhe8dg"
      },
      "outputs": [],
      "source": [
        "import glob\n",
        "import os\n",
        "import pandas as pd\n",
        "import numpy as np"
      ]
    },
    {
      "cell_type": "code",
      "execution_count": null,
      "metadata": {
        "id": "nnhNDClefJJ7"
      },
      "outputs": [],
      "source": [
        "file_paths = [\n",
        "\"/content/angry1.csv\", \"/content/angry2.csv\", \"/content/angry3.csv\",\n",
        "\"/content/happy1.csv\", \"/content/happy2.csv\", \"/content/happy3.csv\",\n",
        "\"/content/neutral1.csv\", \"/content/neutral2.csv\", \"/content/neutral3.csv\",\n",
        "\"/content/sad1.csv\", \"/content/sad2.csv\", \"/content/sad3.csv\"\n",
        "]"
      ]
    },
    {
      "cell_type": "code",
      "execution_count": null,
      "metadata": {
        "id": "Kx8JQHpvfUuN"
      },
      "outputs": [],
      "source": [
        "# emotion_map = {\n",
        "# \"happy\": 1, \"sad\": 2, \"angry\": 3,\"neutral\": 4\n",
        "# }\n",
        "emotion_map = {\n",
        "\"happy\": 0,\n",
        "\"sad\": 1,\n",
        "\"angry\": 2,\n",
        "\"neutral\": 3\n",
        "}"
      ]
    },
    {
      "cell_type": "code",
      "execution_count": null,
      "metadata": {
        "id": "MOvDgSbufn95"
      },
      "outputs": [],
      "source": [
        "data = []\n",
        "labels = []\n",
        "for path in file_paths:\n",
        "  filename = os.path.basename(path) # get file name like 'angry1.csv'\n",
        "  emotion = ''.join([c for c in filename if not c.isdigit()]).replace(\".csv\", \"\")\n",
        "\n",
        "  if emotion not in emotion_map:\n",
        "    print(f\"Unknown emotion in file: {filename}, skipping...\")\n",
        "    continue\n",
        "  label = emotion_map[emotion]\n",
        "  df = pd.read_csv(path)\n",
        "  df = df.select_dtypes(include=\"number\").fillna(0)  # keep only numeric columns\n",
        "  data.append(df.values)\n",
        "  labels.append(label)\n"
      ]
    },
    {
      "cell_type": "code",
      "execution_count": null,
      "metadata": {
        "id": "i2pjGM0Sfx7c"
      },
      "outputs": [],
      "source": [
        "# from tensorflow.keras.preprocessing.sequence import pad_sequences\n",
        "# from sklearn.model_selection import train_test_split\n",
        "# from tensorflow.keras.models import Sequential\n",
        "# from tensorflow.keras.layers import LSTM, Dense, Masking\n",
        "# from tensorflow.keras.utils import to_categorical\n",
        "\n",
        "# # Step 1: Pad sequences (make all EEG sequences same length)\n",
        "# MAX_SEQ_LEN = 300  # You can adjust this based on your data\n",
        "\n",
        "# padded_data = pad_sequences(data, maxlen=MAX_SEQ_LEN, dtype='float32', padding='post', truncating='post')\n",
        "\n",
        "# # Step 2: Convert labels to categorical (if needed)\n",
        "# num_classes = 4\n",
        "# labels_categorical = to_categorical(labels, num_classes=num_classes)\n",
        "\n",
        "# # Step 3: Train/test split\n",
        "# X_train, X_test, y_train, y_test = train_test_split(padded_data, labels_categorical, test_size=0.2, random_state=42)\n",
        "\n",
        "# # Step 4: Build LSTM model\n",
        "# model = Sequential([\n",
        "#     Masking(mask_value=0.0, input_shape=(MAX_SEQ_LEN, padded_data.shape[2])),\n",
        "#     LSTM(64, return_sequences=False),\n",
        "#     Dense(32, activation='relu'),\n",
        "#     Dense(num_classes, activation='softmax')\n",
        "# ])\n",
        "\n",
        "# model.compile(loss='categorical_crossentropy', optimizer='adam', metrics=['accuracy'])\n",
        "\n",
        "# # Step 5: Train\n",
        "# model.fit(X_train, y_train, epochs=30, batch_size=4, validation_split=0.2)\n",
        "\n",
        "# # Step 6: Evaluate\n",
        "# loss, acc = model.evaluate(X_test, y_test)\n",
        "# print(f\"Test Accuracy: {acc:.2f}\")\n"
      ]
    },
    {
      "cell_type": "code",
      "execution_count": null,
      "metadata": {
        "colab": {
          "background_save": true,
          "base_uri": "https://localhost:8080/"
        },
        "id": "DV9HDjv1nJ3A",
        "outputId": "613d2189-73f2-450e-cab6-4be8e23d1359"
      },
      "outputs": [
        {
          "name": "stderr",
          "output_type": "stream",
          "text": [
            "/usr/local/lib/python3.11/dist-packages/keras/src/layers/core/masking.py:47: UserWarning: Do not pass an `input_shape`/`input_dim` argument to a layer. When using Sequential models, prefer using an `Input(shape)` object as the first layer in the model instead.\n",
            "  super().__init__(**kwargs)\n"
          ]
        },
        {
          "name": "stdout",
          "output_type": "stream",
          "text": [
            "Epoch 1/30\n",
            "\u001b[1m1776/1776\u001b[0m \u001b[32m━━━━━━━━━━━━━━━━━━━━\u001b[0m\u001b[37m\u001b[0m \u001b[1m16s\u001b[0m 7ms/step - accuracy: 0.4447 - loss: 1.2096 - val_accuracy: 0.6431 - val_loss: 0.8812\n",
            "Epoch 2/30\n",
            "\u001b[1m1776/1776\u001b[0m \u001b[32m━━━━━━━━━━━━━━━━━━━━\u001b[0m\u001b[37m\u001b[0m \u001b[1m12s\u001b[0m 7ms/step - accuracy: 0.6961 - loss: 0.7618 - val_accuracy: 0.7878 - val_loss: 0.5685\n",
            "Epoch 3/30\n",
            "\u001b[1m1776/1776\u001b[0m \u001b[32m━━━━━━━━━━━━━━━━━━━━\u001b[0m\u001b[37m\u001b[0m \u001b[1m20s\u001b[0m 7ms/step - accuracy: 0.7806 - loss: 0.5696 - val_accuracy: 0.8419 - val_loss: 0.4282\n",
            "Epoch 4/30\n",
            "\u001b[1m1776/1776\u001b[0m \u001b[32m━━━━━━━━━━━━━━━━━━━━\u001b[0m\u001b[37m\u001b[0m \u001b[1m20s\u001b[0m 7ms/step - accuracy: 0.8305 - loss: 0.4543 - val_accuracy: 0.8688 - val_loss: 0.3667\n",
            "Epoch 5/30\n",
            "\u001b[1m1776/1776\u001b[0m \u001b[32m━━━━━━━━━━━━━━━━━━━━\u001b[0m\u001b[37m\u001b[0m \u001b[1m13s\u001b[0m 7ms/step - accuracy: 0.8554 - loss: 0.3943 - val_accuracy: 0.8832 - val_loss: 0.3300\n",
            "Epoch 6/30\n",
            "\u001b[1m1776/1776\u001b[0m \u001b[32m━━━━━━━━━━━━━━━━━━━━\u001b[0m\u001b[37m\u001b[0m \u001b[1m21s\u001b[0m 8ms/step - accuracy: 0.8752 - loss: 0.3457 - val_accuracy: 0.8823 - val_loss: 0.3421\n",
            "Epoch 7/30\n",
            "\u001b[1m1776/1776\u001b[0m \u001b[32m━━━━━━━━━━━━━━━━━━━━\u001b[0m\u001b[37m\u001b[0m \u001b[1m20s\u001b[0m 7ms/step - accuracy: 0.8919 - loss: 0.2988 - val_accuracy: 0.9089 - val_loss: 0.2608\n",
            "Epoch 8/30\n",
            "\u001b[1m1776/1776\u001b[0m \u001b[32m━━━━━━━━━━━━━━━━━━━━\u001b[0m\u001b[37m\u001b[0m \u001b[1m21s\u001b[0m 7ms/step - accuracy: 0.9057 - loss: 0.2672 - val_accuracy: 0.9187 - val_loss: 0.2323\n",
            "Epoch 9/30\n",
            "\u001b[1m1776/1776\u001b[0m \u001b[32m━━━━━━━━━━━━━━━━━━━━\u001b[0m\u001b[37m\u001b[0m \u001b[1m19s\u001b[0m 7ms/step - accuracy: 0.9198 - loss: 0.2326 - val_accuracy: 0.9311 - val_loss: 0.1994\n",
            "Epoch 10/30\n",
            "\u001b[1m1776/1776\u001b[0m \u001b[32m━━━━━━━━━━━━━━━━━━━━\u001b[0m\u001b[37m\u001b[0m \u001b[1m21s\u001b[0m 7ms/step - accuracy: 0.9243 - loss: 0.2156 - val_accuracy: 0.9428 - val_loss: 0.1692\n",
            "Epoch 11/30\n",
            "\u001b[1m1776/1776\u001b[0m \u001b[32m━━━━━━━━━━━━━━━━━━━━\u001b[0m\u001b[37m\u001b[0m \u001b[1m22s\u001b[0m 7ms/step - accuracy: 0.9334 - loss: 0.1887 - val_accuracy: 0.9354 - val_loss: 0.1885\n",
            "Epoch 12/30\n",
            "\u001b[1m1776/1776\u001b[0m \u001b[32m━━━━━━━━━━━━━━━━━━━━\u001b[0m\u001b[37m\u001b[0m \u001b[1m19s\u001b[0m 7ms/step - accuracy: 0.9393 - loss: 0.1786 - val_accuracy: 0.9469 - val_loss: 0.1523\n",
            "Epoch 13/30\n",
            "\u001b[1m1776/1776\u001b[0m \u001b[32m━━━━━━━━━━━━━━━━━━━━\u001b[0m\u001b[37m\u001b[0m \u001b[1m13s\u001b[0m 7ms/step - accuracy: 0.9468 - loss: 0.1564 - val_accuracy: 0.9531 - val_loss: 0.1370\n",
            "Epoch 14/30\n",
            "\u001b[1m1776/1776\u001b[0m \u001b[32m━━━━━━━━━━━━━━━━━━━━\u001b[0m\u001b[37m\u001b[0m \u001b[1m21s\u001b[0m 7ms/step - accuracy: 0.9523 - loss: 0.1384 - val_accuracy: 0.9544 - val_loss: 0.1321\n",
            "Epoch 15/30\n",
            "\u001b[1m1776/1776\u001b[0m \u001b[32m━━━━━━━━━━━━━━━━━━━━\u001b[0m\u001b[37m\u001b[0m \u001b[1m20s\u001b[0m 7ms/step - accuracy: 0.9553 - loss: 0.1288 - val_accuracy: 0.9501 - val_loss: 0.1522\n",
            "Epoch 16/30\n",
            "\u001b[1m1776/1776\u001b[0m \u001b[32m━━━━━━━━━━━━━━━━━━━━\u001b[0m\u001b[37m\u001b[0m \u001b[1m12s\u001b[0m 7ms/step - accuracy: 0.9604 - loss: 0.1236 - val_accuracy: 0.9612 - val_loss: 0.1109\n",
            "Epoch 17/30\n",
            "\u001b[1m1776/1776\u001b[0m \u001b[32m━━━━━━━━━━━━━━━━━━━━\u001b[0m\u001b[37m\u001b[0m \u001b[1m22s\u001b[0m 7ms/step - accuracy: 0.9594 - loss: 0.1169 - val_accuracy: 0.9589 - val_loss: 0.1286\n",
            "Epoch 18/30\n",
            "\u001b[1m1776/1776\u001b[0m \u001b[32m━━━━━━━━━━━━━━━━━━━━\u001b[0m\u001b[37m\u001b[0m \u001b[1m19s\u001b[0m 7ms/step - accuracy: 0.9631 - loss: 0.1090 - val_accuracy: 0.9685 - val_loss: 0.0925\n",
            "Epoch 19/30\n",
            "\u001b[1m1776/1776\u001b[0m \u001b[32m━━━━━━━━━━━━━━━━━━━━\u001b[0m\u001b[37m\u001b[0m \u001b[1m20s\u001b[0m 7ms/step - accuracy: 0.9670 - loss: 0.0980 - val_accuracy: 0.9699 - val_loss: 0.0963\n",
            "Epoch 20/30\n",
            "\u001b[1m1776/1776\u001b[0m \u001b[32m━━━━━━━━━━━━━━━━━━━━\u001b[0m\u001b[37m\u001b[0m \u001b[1m13s\u001b[0m 7ms/step - accuracy: 0.9674 - loss: 0.0931 - val_accuracy: 0.9689 - val_loss: 0.0915\n",
            "Epoch 21/30\n",
            "\u001b[1m1776/1776\u001b[0m \u001b[32m━━━━━━━━━━━━━━━━━━━━\u001b[0m\u001b[37m\u001b[0m \u001b[1m13s\u001b[0m 7ms/step - accuracy: 0.9704 - loss: 0.0891 - val_accuracy: 0.9710 - val_loss: 0.0890\n",
            "Epoch 22/30\n",
            "\u001b[1m1776/1776\u001b[0m \u001b[32m━━━━━━━━━━━━━━━━━━━━\u001b[0m\u001b[37m\u001b[0m \u001b[1m19s\u001b[0m 7ms/step - accuracy: 0.9733 - loss: 0.0809 - val_accuracy: 0.9737 - val_loss: 0.0814\n",
            "Epoch 23/30\n",
            "\u001b[1m1776/1776\u001b[0m \u001b[32m━━━━━━━━━━━━━━━━━━━━\u001b[0m\u001b[37m\u001b[0m \u001b[1m21s\u001b[0m 7ms/step - accuracy: 0.9732 - loss: 0.0846 - val_accuracy: 0.9730 - val_loss: 0.0791\n",
            "Epoch 24/30\n",
            "\u001b[1m1776/1776\u001b[0m \u001b[32m━━━━━━━━━━━━━━━━━━━━\u001b[0m\u001b[37m\u001b[0m \u001b[1m13s\u001b[0m 7ms/step - accuracy: 0.9736 - loss: 0.0799 - val_accuracy: 0.9694 - val_loss: 0.1017\n",
            "Epoch 25/30\n",
            "\u001b[1m1776/1776\u001b[0m \u001b[32m━━━━━━━━━━━━━━━━━━━━\u001b[0m\u001b[37m\u001b[0m \u001b[1m19s\u001b[0m 7ms/step - accuracy: 0.9758 - loss: 0.0763 - val_accuracy: 0.9723 - val_loss: 0.0813\n",
            "Epoch 26/30\n",
            "\u001b[1m1776/1776\u001b[0m \u001b[32m━━━━━━━━━━━━━━━━━━━━\u001b[0m\u001b[37m\u001b[0m \u001b[1m21s\u001b[0m 7ms/step - accuracy: 0.9773 - loss: 0.0699 - val_accuracy: 0.9777 - val_loss: 0.0735\n",
            "Epoch 27/30\n",
            "\u001b[1m1776/1776\u001b[0m \u001b[32m━━━━━━━━━━━━━━━━━━━━\u001b[0m\u001b[37m\u001b[0m \u001b[1m12s\u001b[0m 7ms/step - accuracy: 0.9756 - loss: 0.0742 - val_accuracy: 0.9777 - val_loss: 0.0673\n",
            "Epoch 28/30\n",
            "\u001b[1m1776/1776\u001b[0m \u001b[32m━━━━━━━━━━━━━━━━━━━━\u001b[0m\u001b[37m\u001b[0m \u001b[1m20s\u001b[0m 7ms/step - accuracy: 0.9801 - loss: 0.0597 - val_accuracy: 0.9830 - val_loss: 0.0614\n",
            "Epoch 29/30\n",
            "\u001b[1m1776/1776\u001b[0m \u001b[32m━━━━━━━━━━━━━━━━━━━━\u001b[0m\u001b[37m\u001b[0m \u001b[1m12s\u001b[0m 7ms/step - accuracy: 0.9818 - loss: 0.0550 - val_accuracy: 0.9817 - val_loss: 0.0596\n",
            "Epoch 30/30\n",
            "\u001b[1m1776/1776\u001b[0m \u001b[32m━━━━━━━━━━━━━━━━━━━━\u001b[0m\u001b[37m\u001b[0m \u001b[1m21s\u001b[0m 7ms/step - accuracy: 0.9823 - loss: 0.0547 - val_accuracy: 0.9768 - val_loss: 0.0823\n",
            "\u001b[1m555/555\u001b[0m \u001b[32m━━━━━━━━━━━━━━━━━━━━\u001b[0m\u001b[37m\u001b[0m \u001b[1m2s\u001b[0m 4ms/step - accuracy: 0.9770 - loss: 0.0817\n",
            "Test Accuracy: 0.98\n"
          ]
        }
      ],
      "source": [
        "import os\n",
        "import numpy as np\n",
        "import pandas as pd\n",
        "from sklearn.model_selection import train_test_split\n",
        "from tensorflow.keras.models import Sequential\n",
        "from tensorflow.keras.layers import LSTM, Dense, Dropout, Masking\n",
        "from tensorflow.keras.utils import to_categorical\n",
        "from sklearn.preprocessing import StandardScaler\n",
        "\n",
        "# Step 1: Load all 12 files\n",
        "file_paths = [\n",
        "    \"/content/angry1.csv\", \"/content/angry2.csv\", \"/content/angry3.csv\",\n",
        "    \"/content/happy1.csv\", \"/content/happy2.csv\", \"/content/happy3.csv\",\n",
        "    \"/content/sad1.csv\", \"/content/sad2.csv\", \"/content/sad3.csv\",\n",
        "    \"/content/neutral1.csv\", \"/content/neutral2.csv\", \"/content/neutral3.csv\"\n",
        "]\n",
        "\n",
        "emotion_map = {\"happy\": 0, \"sad\": 1, \"angry\": 2, \"neutral\": 3}\n",
        "\n",
        "X_all = []\n",
        "y_all = []\n",
        "\n",
        "for path in file_paths:\n",
        "    df = pd.read_csv(path)\n",
        "\n",
        "    # Drop non-feature columns\n",
        "    df = df.drop(columns=[\"Timestamp\", \"MarkerValueInt\", \"Emotion\", \"markerindex\"], errors='ignore')\n",
        "\n",
        "    # Drop rows with missing data\n",
        "    df = df.dropna()\n",
        "\n",
        "    # Normalize features\n",
        "    scaler = StandardScaler()\n",
        "    X = scaler.fit_transform(df.values)\n",
        "\n",
        "    # Use the emotion name from filename\n",
        "    filename = os.path.basename(path)\n",
        "    emotion_label = ''.join(filter(lambda x: not x.isdigit(), filename)).replace('.csv', '')\n",
        "\n",
        "    y = [emotion_map[emotion_label]] * len(X)\n",
        "\n",
        "    X_all.append(X)\n",
        "    y_all.extend(y)\n",
        "\n",
        "# Combine all\n",
        "X_all = np.vstack(X_all)\n",
        "y_all = np.array(y_all)\n",
        "\n",
        "# Reshape for LSTM: (samples, time_steps, features)\n",
        "# Let's treat each sequence of 10 rows as one sequence (windowing)\n",
        "def create_sequences(X, y, seq_length=10):\n",
        "    X_seq = []\n",
        "    y_seq = []\n",
        "    for i in range(0, len(X) - seq_length):\n",
        "        X_seq.append(X[i:i+seq_length])\n",
        "        y_seq.append(y[i+seq_length-1])  # label from last time step\n",
        "    return np.array(X_seq), np.array(y_seq)\n",
        "\n",
        "X_seq, y_seq = create_sequences(X_all, y_all)\n",
        "\n",
        "# One-hot encode labels\n",
        "y_cat = to_categorical(y_seq, num_classes=4)\n",
        "\n",
        "# Train/test split\n",
        "X_train, X_test, y_train, y_test = train_test_split(X_seq, y_cat, test_size=0.2, random_state=42)\n",
        "\n",
        "# Build LSTM model\n",
        "model = Sequential()\n",
        "model.add(Masking(mask_value=0., input_shape=(X_seq.shape[1], X_seq.shape[2])))\n",
        "model.add(LSTM(64, return_sequences=False))\n",
        "model.add(Dropout(0.3))\n",
        "model.add(Dense(32, activation='relu'))\n",
        "model.add(Dense(4, activation='softmax'))\n",
        "\n",
        "model.compile(optimizer='adam', loss='categorical_crossentropy', metrics=['accuracy'])\n",
        "\n",
        "# Train\n",
        "model.fit(X_train, y_train, epochs=30, batch_size=32, validation_split=0.2)\n",
        "\n",
        "# Evaluate\n",
        "loss, accuracy = model.evaluate(X_test, y_test)\n",
        "print(f\"Test Accuracy: {accuracy:.2f}\")\n"
      ]
    },
    {
      "cell_type": "code",
      "execution_count": null,
      "metadata": {
        "colab": {
          "background_save": true
        },
        "id": "IM3Eu6E_rHeI",
        "outputId": "f18abd4f-79ff-4d9b-ee78-b3ddc5f3891b"
      },
      "outputs": [
        {
          "name": "stderr",
          "output_type": "stream",
          "text": [
            "WARNING:absl:You are saving your model as an HDF5 file via `model.save()` or `keras.saving.save_model(model)`. This file format is considered legacy. We recommend using instead the native Keras format, e.g. `model.save('my_model.keras')` or `keras.saving.save_model(model, 'my_model.keras')`. \n"
          ]
        },
        {
          "name": "stdout",
          "output_type": "stream",
          "text": [
            "Model saved to emotion_model.h5\n"
          ]
        }
      ],
      "source": [
        "from tensorflow import keras\n",
        "model.save(\"emotion_model.h5\")\n",
        "print(\"Model saved to emotion_model.h5\")\n"
      ]
    },
    {
      "cell_type": "code",
      "execution_count": null,
      "metadata": {
        "colab": {
          "background_save": true
        },
        "id": "aCnyn8gOrsVh",
        "outputId": "357560f0-d95c-41ac-9417-8ed3f192f827"
      },
      "outputs": [
        {
          "name": "stdout",
          "output_type": "stream",
          "text": [
            "\u001b[1m555/555\u001b[0m \u001b[32m━━━━━━━━━━━━━━━━━━━━\u001b[0m\u001b[37m\u001b[0m \u001b[1m2s\u001b[0m 3ms/step\n"
          ]
        }
      ],
      "source": [
        "import numpy as np\n",
        "y_pred = model.predict(X_test)\n",
        "y_pred_labels = np.argmax(y_pred, axis=1)\n"
      ]
    },
    {
      "cell_type": "code",
      "execution_count": null,
      "metadata": {
        "colab": {
          "background_save": true
        },
        "id": "o8NzhVntrwo_",
        "outputId": "6b5e3658-42dc-4b72-b882-b91005f90537"
      },
      "outputs": [
        {
          "name": "stdout",
          "output_type": "stream",
          "text": [
            "Confusion Matrix:\n",
            "[[3768   15   27   24]\n",
            " [  28 3344   99   93]\n",
            " [  34   14 4111    9]\n",
            " [   8   22   24 6132]]\n"
          ]
        }
      ],
      "source": [
        "from sklearn.metrics import confusion_matrix, classification_report\n",
        "y_test_labels = np.argmax(y_test, axis=1)\n",
        "cm = confusion_matrix(y_test_labels, y_pred_labels)\n",
        "print(\"Confusion Matrix:\")\n",
        "print(cm)\n"
      ]
    },
    {
      "cell_type": "code",
      "execution_count": null,
      "metadata": {
        "colab": {
          "background_save": true
        },
        "id": "YlOuEdQ9r9kY",
        "outputId": "1d66b72b-5b94-4283-f619-5f18e39da70c"
      },
      "outputs": [
        {
          "name": "stdout",
          "output_type": "stream",
          "text": [
            "              precision    recall  f1-score   support\n",
            "\n",
            "       Happy       0.98      0.98      0.98      3834\n",
            "         Sad       0.98      0.94      0.96      3564\n",
            "       Angry       0.96      0.99      0.98      4168\n",
            "     Neutral       0.98      0.99      0.99      6186\n",
            "\n",
            "    accuracy                           0.98     17752\n",
            "   macro avg       0.98      0.97      0.98     17752\n",
            "weighted avg       0.98      0.98      0.98     17752\n",
            "\n"
          ]
        }
      ],
      "source": [
        "target_names = [\"Happy\", \"Sad\", \"Angry\", \"Neutral\"]\n",
        "report = classification_report(y_test_labels, y_pred_labels, target_names=target_names)\n",
        "print(report)"
      ]
    },
    {
      "cell_type": "code",
      "execution_count": null,
      "metadata": {
        "colab": {
          "background_save": true
        },
        "id": "Euhtqc5Fsxa1",
        "outputId": "a22095ba-e238-491e-864b-721befaac07f"
      },
      "outputs": [
        {
          "name": "stderr",
          "output_type": "stream",
          "text": [
            "WARNING:absl:You are saving your model as an HDF5 file via `model.save()` or `keras.saving.save_model(model)`. This file format is considered legacy. We recommend using instead the native Keras format, e.g. `model.save('my_model.keras')` or `keras.saving.save_model(model, 'my_model.keras')`. \n"
          ]
        }
      ],
      "source": [
        "model.save(\"emotion_model.h5\")  # For Keras HDF5 format\n"
      ]
    },
    {
      "cell_type": "code",
      "execution_count": null,
      "metadata": {
        "colab": {
          "background_save": true
        },
        "id": "UpIPvGA3syZX",
        "outputId": "e34e1747-8fef-479a-f4f5-682610d55802"
      },
      "outputs": [
        {
          "data": {
            "image/png": "[encoded data removed]",
            "text/plain": [
              "<Figure size 800x600 with 2 Axes>"
            ]
          },
          "metadata": {},
          "output_type": "display_data"
        }
      ],
      "source": [
        "import matplotlib.pyplot as plt\n",
        "import seaborn as sns\n",
        "from sklearn.metrics import confusion_matrix\n",
        "import numpy as np\n",
        "\n",
        "emotion_labels = [\"Happy\", \"Sad\", \"Angry\", \"Neutral\"]\n",
        "plt.figure(figsize=(8, 6))\n",
        "sns.heatmap(cm, annot=True, fmt='d', cmap='Blues',\n",
        "xticklabels=emotion_labels, yticklabels=emotion_labels)\n",
        "\n",
        "plt.title(\"Confusion Matrix Heatmap\")\n",
        "plt.xlabel(\"Predicted Emotion\")\n",
        "plt.ylabel(\"True Emotion\")\n",
        "plt.tight_layout()\n",
        "plt.show()"
      ]
    },
    {
      "cell_type": "code",
      "execution_count": null,
      "metadata": {
        "colab": {
          "background_save": true
        },
        "id": "UQb17ZB2TJte",
        "outputId": "2dec8623-1624-4e74-ec55-af706133fc9d"
      },
      "outputs": [
        {
          "name": "stdout",
          "output_type": "stream",
          "text": [
            "Requirement already satisfied: flask in /usr/local/lib/python3.11/dist-packages (3.1.0)\n",
            "Collecting flask-ngrok\n",
            "  Downloading flask_ngrok-0.0.25-py3-none-any.whl.metadata (1.8 kB)\n",
            "Requirement already satisfied: tensorflow in /usr/local/lib/python3.11/dist-packages (2.18.0)\n",
            "Requirement already satisfied: Werkzeug>=3.1 in /usr/local/lib/python3.11/dist-packages (from flask) (3.1.3)\n",
            "Requirement already satisfied: Jinja2>=3.1.2 in /usr/local/lib/python3.11/dist-packages (from flask) (3.1.6)\n",
            "Requirement already satisfied: itsdangerous>=2.2 in /usr/local/lib/python3.11/dist-packages (from flask) (2.2.0)\n",
            "Requirement already satisfied: click>=8.1.3 in /usr/local/lib/python3.11/dist-packages (from flask) (8.1.8)\n",
            "Requirement already satisfied: blinker>=1.9 in /usr/local/lib/python3.11/dist-packages (from flask) (1.9.0)\n",
            "Requirement already satisfied: requests in /usr/local/lib/python3.11/dist-packages (from flask-ngrok) (2.32.3)\n",
            "Requirement already satisfied: absl-py>=1.0.0 in /usr/local/lib/python3.11/dist-packages (from tensorflow) (1.4.0)\n",
            "Requirement already satisfied: astunparse>=1.6.0 in /usr/local/lib/python3.11/dist-packages (from tensorflow) (1.6.3)\n",
            "Requirement already satisfied: flatbuffers>=24.3.25 in /usr/local/lib/python3.11/dist-packages (from tensorflow) (25.2.10)\n",
            "Requirement already satisfied: gast!=0.5.0,!=0.5.1,!=0.5.2,>=0.2.1 in /usr/local/lib/python3.11/dist-packages (from tensorflow) (0.6.0)\n",
            "Requirement already satisfied: google-pasta>=0.1.1 in /usr/local/lib/python3.11/dist-packages (from tensorflow) (0.2.0)\n",
            "Requirement already satisfied: libclang>=13.0.0 in /usr/local/lib/python3.11/dist-packages (from tensorflow) (18.1.1)\n",
            "Requirement already satisfied: opt-einsum>=2.3.2 in /usr/local/lib/python3.11/dist-packages (from tensorflow) (3.4.0)\n",
            "Requirement already satisfied: packaging in /usr/local/lib/python3.11/dist-packages (from tensorflow) (24.2)\n",
            "Requirement already satisfied: protobuf!=4.21.0,!=4.21.1,!=4.21.2,!=4.21.3,!=4.21.4,!=4.21.5,<6.0.0dev,>=3.20.3 in /usr/local/lib/python3.11/dist-packages (from tensorflow) (5.29.4)\n",
            "Requirement already satisfied: setuptools in /usr/local/lib/python3.11/dist-packages (from tensorflow) (75.2.0)\n",
            "Requirement already satisfied: six>=1.12.0 in /usr/local/lib/python3.11/dist-packages (from tensorflow) (1.17.0)\n",
            "Requirement already satisfied: termcolor>=1.1.0 in /usr/local/lib/python3.11/dist-packages (from tensorflow) (3.1.0)\n",
            "Requirement already satisfied: typing-extensions>=3.6.6 in /usr/local/lib/python3.11/dist-packages (from tensorflow) (4.13.2)\n",
            "Requirement already satisfied: wrapt>=1.11.0 in /usr/local/lib/python3.11/dist-packages (from tensorflow) (1.17.2)\n",
            "Requirement already satisfied: grpcio<2.0,>=1.24.3 in /usr/local/lib/python3.11/dist-packages (from tensorflow) (1.71.0)\n",
            "Requirement already satisfied: tensorboard<2.19,>=2.18 in /usr/local/lib/python3.11/dist-packages (from tensorflow) (2.18.0)\n",
            "Requirement already satisfied: keras>=3.5.0 in /usr/local/lib/python3.11/dist-packages (from tensorflow) (3.8.0)\n",
            "Requirement already satisfied: numpy<2.1.0,>=1.26.0 in /usr/local/lib/python3.11/dist-packages (from tensorflow) (2.0.2)\n",
            "Requirement already satisfied: h5py>=3.11.0 in /usr/local/lib/python3.11/dist-packages (from tensorflow) (3.13.0)\n",
            "Requirement already satisfied: ml-dtypes<0.5.0,>=0.4.0 in /usr/local/lib/python3.11/dist-packages (from tensorflow) (0.4.1)\n",
            "Requirement already satisfied: tensorflow-io-gcs-filesystem>=0.23.1 in /usr/local/lib/python3.11/dist-packages (from tensorflow) (0.37.1)\n",
            "Requirement already satisfied: wheel<1.0,>=0.23.0 in /usr/local/lib/python3.11/dist-packages (from astunparse>=1.6.0->tensorflow) (0.45.1)\n",
            "Requirement already satisfied: MarkupSafe>=2.0 in /usr/local/lib/python3.11/dist-packages (from Jinja2>=3.1.2->flask) (3.0.2)\n",
            "Requirement already satisfied: rich in /usr/local/lib/python3.11/dist-packages (from keras>=3.5.0->tensorflow) (13.9.4)\n",
            "Requirement already satisfied: namex in /usr/local/lib/python3.11/dist-packages (from keras>=3.5.0->tensorflow) (0.0.9)\n",
            "Requirement already satisfied: optree in /usr/local/lib/python3.11/dist-packages (from keras>=3.5.0->tensorflow) (0.15.0)\n",
            "Requirement already satisfied: charset-normalizer<4,>=2 in /usr/local/lib/python3.11/dist-packages (from requests->flask-ngrok) (3.4.2)\n",
            "Requirement already satisfied: idna<4,>=2.5 in /usr/local/lib/python3.11/dist-packages (from requests->flask-ngrok) (3.10)\n",
            "Requirement already satisfied: urllib3<3,>=1.21.1 in /usr/local/lib/python3.11/dist-packages (from requests->flask-ngrok) (2.4.0)\n",
            "Requirement already satisfied: certifi>=2017.4.17 in /usr/local/lib/python3.11/dist-packages (from requests->flask-ngrok) (2025.4.26)\n",
            "Requirement already satisfied: markdown>=2.6.8 in /usr/local/lib/python3.11/dist-packages (from tensorboard<2.19,>=2.18->tensorflow) (3.8)\n",
            "Requirement already satisfied: tensorboard-data-server<0.8.0,>=0.7.0 in /usr/local/lib/python3.11/dist-packages (from tensorboard<2.19,>=2.18->tensorflow) (0.7.2)\n",
            "Requirement already satisfied: markdown-it-py>=2.2.0 in /usr/local/lib/python3.11/dist-packages (from rich->keras>=3.5.0->tensorflow) (3.0.0)\n",
            "Requirement already satisfied: pygments<3.0.0,>=2.13.0 in /usr/local/lib/python3.11/dist-packages (from rich->keras>=3.5.0->tensorflow) (2.19.1)\n",
            "Requirement already satisfied: mdurl~=0.1 in /usr/local/lib/python3.11/dist-packages (from markdown-it-py>=2.2.0->rich->keras>=3.5.0->tensorflow) (0.1.2)\n",
            "Downloading flask_ngrok-0.0.25-py3-none-any.whl (3.1 kB)\n",
            "Installing collected packages: flask-ngrok\n",
            "Successfully installed flask-ngrok-0.0.25\n"
          ]
        }
      ],
      "source": [
        "!pip install flask flask-ngrok tensorflow"
      ]
    },
    {
      "cell_type": "code",
      "source": [
        "!pip install pyngrok\n"
      ],
      "metadata": {
        "colab": {
          "base_uri": "https://localhost:8080/"
        },
        "id": "f0tFaLfhc4O_",
        "outputId": "239c4187-c5fd-4a83-ce32-69eb4b8e59c9"
      },
      "execution_count": 23,
      "outputs": [
        {
          "output_type": "stream",
          "name": "stdout",
          "text": [
            "Collecting pyngrok\n",
            "  Downloading pyngrok-7.2.8-py3-none-any.whl.metadata (10 kB)\n",
            "Requirement already satisfied: PyYAML>=5.1 in /usr/local/lib/python3.11/dist-packages (from pyngrok) (6.0.2)\n",
            "Downloading pyngrok-7.2.8-py3-none-any.whl (25 kB)\n",
            "Installing collected packages: pyngrok\n",
            "Successfully installed pyngrok-7.2.8\n"
          ]
        }
      ]
    },
    {
      "cell_type": "code",
      "source": [
        "!ngrok config add-authtoken 2x4ipJ1Er9O4xUrRIk1gm9jxG1a_7YXRr6mxtCtEodsLMbEVV"
      ],
      "metadata": {
        "colab": {
          "base_uri": "https://localhost:8080/"
        },
        "id": "qw4uRfabeYSB",
        "outputId": "b863b6d5-faf7-4dfe-f3a5-f8df73a75b71"
      },
      "execution_count": 28,
      "outputs": [
        {
          "output_type": "stream",
          "name": "stdout",
          "text": [
            "Authtoken saved to configuration file: /root/.config/ngrok/ngrok.yml\n"
          ]
        }
      ]
    },
    {
      "cell_type": "code",
      "source": [
        "from flask import Flask, request, jsonify\n",
        "from pyngrok import ngrok\n",
        "from tensorflow.keras.models import load_model\n",
        "import pandas as pd\n",
        "import numpy as np\n",
        "app = Flask(__name__)\n",
        "\n",
        "model = load_model(\"emotion_model.h5\")"
      ],
      "metadata": {
        "colab": {
          "base_uri": "https://localhost:8080/"
        },
        "id": "XhWKtMk2dMTR",
        "outputId": "aa324458-a889-4348-d9b6-30ff63c4daaf"
      },
      "execution_count": 29,
      "outputs": [
        {
          "output_type": "stream",
          "name": "stderr",
          "text": [
            "WARNING:absl:Compiled the loaded model, but the compiled metrics have yet to be built. `model.compile_metrics` will be empty until you train or evaluate the model.\n"
          ]
        }
      ]
    },
    {
      "cell_type": "code",
      "source": [
        "WINDOW_SIZE = 128\n",
        "STRIDE = 64\n",
        "LABELS = ['Happy', 'Sad', 'Angry', 'Neutral']\n",
        "\n",
        "def preprocess_window(window):\n",
        "    return (window - np.mean(window, axis=0)) / (np.std(window, axis=0) + 1e-6)\n",
        "\n",
        "def extract_windows(data):\n",
        "    windows = []\n",
        "    for start in range(0, len(data) - WINDOW_SIZE + 1, STRIDE):\n",
        "        win = data[start:start+WINDOW_SIZE]\n",
        "        windows.append(preprocess_window(win))\n",
        "    return np.array(windows)"
      ],
      "metadata": {
        "id": "eeqVANZzbq9a"
      },
      "execution_count": 30,
      "outputs": []
    },
    {
      "cell_type": "code",
      "source": [
        "@app.route('/analyze', methods=['POST'])\n",
        "def analyze_eeg_file():\n",
        "    file = request.files['file']\n",
        "    df = pd.read_csv(file)\n",
        "    eeg_data = df.to_numpy()\n",
        "    windows = extract_windows(eeg_data)\n",
        "    preds = model.predict(windows)\n",
        "    labels = np.argmax(preds, axis=1)\n",
        "    unique, counts = np.unique(labels, return_counts=True)\n",
        "    total = sum(counts)\n",
        "    percentages = {LABELS[k]: round(100 * v / total, 2) for k, v in zip(unique, counts)}\n",
        "    return jsonify({\"distribution\": percentages, \"total_windows\": total})\n",
        "\n",
        "# Start ngrok tunnel\n",
        "public_url = ngrok.connect(5000)\n",
        "print(\"🔗 Public URL:\", public_url)\n",
        "\n",
        "# Start Flask app\n",
        "app.run(port=5000)"
      ],
      "metadata": {
        "colab": {
          "base_uri": "https://localhost:8080/"
        },
        "id": "XaGLrWxadmPd",
        "outputId": "d9af5a11-b319-473e-8b13-9aa5c2bce312"
      },
      "execution_count": 31,
      "outputs": [
        {
          "output_type": "stream",
          "name": "stdout",
          "text": [
            "🔗 Public URL: NgrokTunnel: \"https://ebbd-34-90-161-180.ngrok-free.app\" -> \"http://localhost:5000\"\n",
            " * Serving Flask app '__main__'\n",
            " * Debug mode: off\n"
          ]
        },
        {
          "output_type": "stream",
          "name": "stderr",
          "text": [
            "INFO:werkzeug:\u001b[31m\u001b[1mWARNING: This is a development server. Do not use it in a production deployment. Use a production WSGI server instead.\u001b[0m\n",
            " * Running on http://127.0.0.1:5000\n",
            "INFO:werkzeug:\u001b[33mPress CTRL+C to quit\u001b[0m\n"
          ]
        }
      ]
    }
  ],
  "metadata": {
    "accelerator": "GPU",
    "colab": {
      "gpuType": "T4",
      "provenance": []
    },
    "kernelspec": {
      "display_name": "Python 3",
      "name": "python3"
    },
    "language_info": {
      "name": "python"
    }
  },
  "nbformat": 4,
  "nbformat_minor": 0
}